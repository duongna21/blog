{
 "cells": [
  {
   "cell_type": "markdown",
   "metadata": {},
   "source": [
    "# Faster TensorFlow Text Generation with XLA\n",
    "\n",
    "This notebook is a companion to the [Hugging Face blog post with the same title](https://huggingface.co/blog/tf-xla-generate). It is meant to illustrate how to use XLA with TensorFlow text generation.\n",
    "\n",
    "This notebook has the following code cells:\n",
    "1. Prepating the environment\n",
    "2. A stand-alone TF XLA generate example\n",
    "\n",
    "⚠️ If you are running this on colab, you might not have access to a GPU. The benefits of XLA are best observed with a GPU!"
   ]
  },
  {
   "cell_type": "code",
   "execution_count": null,
   "metadata": {},
   "outputs": [],
   "source": [
    "# Preparing the environment\n",
    "!pip install transformers>=4.21.0"
   ]
  },
  {
   "cell_type": "code",
   "execution_count": null,
   "metadata": {},
   "outputs": [],
   "source": [
    "# A stand-alone TF XLA generate example -- if you have a machine with a good GPU, I highly recommend you to try this example there!\n",
    "import time\n",
    "import tensorflow as tf\n",
    "from transformers import AutoConfig, AutoTokenizer, TFAutoModelForCausalLM, TFAutoModelForSeq2SeqLM\n",
    "\n",
    "# 1. Load model and tokenizer\n",
    "model_name = \"t5-small\"\n",
    "config = AutoConfig.from_pretrained(model_name)\n",
    "\n",
    "if config.is_encoder_decoder:\n",
    "    tokenizer_init_kwargs = {}\n",
    "    model_class_for_generation = TFAutoModelForSeq2SeqLM\n",
    "else:  # remember: decoder-only models need left-padding\n",
    "    tokenizer_init_kwargs = {\"padding_side\": \"left\", \"pad_token\": \"</s>\"}\n",
    "    model_class_for_generation = TFAutoModelForCausalLM\n",
    "\n",
    "tokenizer = AutoTokenizer.from_pretrained(model_name, **tokenizer_init_kwargs)\n",
    "model = model_class_for_generation.from_pretrained(model_name)\n",
    "\n",
    "# 2. Prepare tokenization and generation arguments -- don't forget padding to avoid retracing!\n",
    "tokenization_kwargs = {\"pad_to_multiple_of\": 32, \"padding\": True, \"return_tensors\": \"tf\"}\n",
    "generation_kwargs = {\"num_beams\": 4, \"max_new_tokens\": 32}\n",
    "\n",
    "# 3. Create your XLA generate function a̶n̶d̶ ̶m̶a̶k̶e̶ ̶P̶y̶T̶o̶r̶c̶h̶ ̶e̶a̶t̶ ̶d̶u̶s̶t̶\n",
    "# This is the only change with respect to original generate workflow!\n",
    "xla_generate = tf.function(model.generate, jit_compile=True)\n",
    "\n",
    "# 4. Generate! Remember -- the first call will be slow, but all subsequent calls will be fast if you've done things right.\n",
    "input_prompts = [\n",
    "    f\"translate English to {language}: I have four cats and three dogs.\" for language in [\"German\", \"French\", \"Romanian\"]\n",
    "]\n",
    "for input_prompt in input_prompts:\n",
    "    tokenized_text = tokenizer([input_prompt], **tokenization_kwargs)\n",
    "    start = time.time_ns()\n",
    "    generated_text = xla_generate(**tokenized_text, **generation_kwargs)\n",
    "    end = time.time_ns()\n",
    "    decoded_text = tokenizer.decode(generated_text[0], skip_special_tokens=True)\n",
    "    print(f\"Original prompt -- {input_prompt}\")\n",
    "    print(f\"Generated -- {decoded_text}\")\n",
    "    print(f\"Execution time -- {(end - start) / 1e6:.1f} ms\\n\")"
   ]
  }
 ],
 "metadata": {
  "kernelspec": {
   "display_name": "Python 3.8.13 ('hf': venv)",
   "language": "python",
   "name": "python3"
  },
  "language_info": {
   "name": "python",
   "version": "3.8.13"
  },
  "orig_nbformat": 4,
  "vscode": {
   "interpreter": {
    "hash": "84f3c8774ca1c74eb574ae1655a273850a12d5dbb694801a64998ecbefff8fe7"
   }
  }
 },
 "nbformat": 4,
 "nbformat_minor": 2
}
